{
 "cells": [
  {
   "cell_type": "code",
   "execution_count": 16,
   "id": "993c6eaa-f2b5-448f-ae40-ee952c4a2e5a",
   "metadata": {},
   "outputs": [
    {
     "data": {
      "text/plain": [
       "'1.1.1'"
      ]
     },
     "execution_count": 16,
     "metadata": {},
     "output_type": "execute_result"
    }
   ],
   "source": [
    "import qiskit\n",
    "qiskit.__version__"
   ]
  },
  {
   "cell_type": "code",
   "execution_count": 17,
   "id": "cda05be6-b680-48ec-8abc-560ebc948d2f",
   "metadata": {},
   "outputs": [],
   "source": [
    "import numpy as np\n",
    "\n",
    "# Importing standard Qiskit libralies\n",
    "from qiskit import QuantumCircuit, transpile\n",
    "from qiskit.quantum_info import SparsePauliOp\n",
    "from qiskit.transpiler.preset_passmanagers import generate_preset_pass_manager\n",
    "from qiskit_ibm_runtime import EstimatorV2 as Estimator\n",
    "from qiskit_ibm_runtime import SamplerV2\n",
    "from qiskit_ibm_provider import IBMProvider\n",
    "from qiskit.visualization import plot_histogram, plot_distribution\n",
    "from qiskit.providers.fake_provider import GenericBackendV2, FakeQasmBackend\n",
    "from qiskit_aer import StatevectorSimulator, AerSimulator\n",
    "from qiskit import ClassicalRegister, QuantumRegister\n"
   ]
  },
  {
   "cell_type": "code",
   "execution_count": 18,
   "id": "c61d5151-33ff-4274-9fa3-559108ee00ff",
   "metadata": {},
   "outputs": [],
   "source": [
    "# 結果表示用の文字列\n",
    "state_label = [\"|000>\", \"|001>\", \"|010>\", \"|000>\", \"|011>\", \"|100>\", \"|101>\", \"|110>\", \"|111>\"]"
   ]
  },
  {
   "cell_type": "code",
   "execution_count": 19,
   "id": "1abde999-3632-4874-bbdb-f7f821a25ec2",
   "metadata": {},
   "outputs": [
    {
     "name": "stdout",
     "output_type": "stream",
     "text": [
      "['0j|000>', '0j|001>', '(1+0j)|010>', '0j|000>', '0j|011>', '0j|100>', '0j|101>', '0j|110>']\n"
     ]
    }
   ],
   "source": [
    "# 量子回路の初期化\n",
    "qr = QuantumRegister(3, \"q\")\n",
    "cr0 = ClassicalRegister(1, \"c0\")\n",
    "cr1 = ClassicalRegister(1, \"c1\")\n",
    "circuit = QuantumCircuit(qr, cr0, cr1)\n",
    "\n",
    "# ステップ1:量子もつれ状態を共有する\n",
    "circuit.h(1) # アダマールゲート行列を適用\n",
    "circuit.cx(1,2) # CNOTを適用\n",
    "circuit.barrier()\n",
    "\n",
    "# ステップ2:移動する量子ビットを準備する\n",
    "# qr[0]を好きな量子状態に変化させてください\n",
    "# たとえば|1>にしたい場合は次の命令を実行します\n",
    "# circuit.x(0)\n",
    "\n",
    "# ステップ3:アリスの手元の量子ビットにCNOTとHを適用する\n",
    "circuit.cx(0,1)\n",
    "circuit.h(0)\n",
    "circuit.barrier()\n",
    "\n",
    "# ステップ4:アリスの手元の量子ビットを測定し、得た値を古典ビットとしてボブに通信する\n",
    "circuit.measure([0,1], [0,1])\n",
    "circuit.barrier()\n",
    "\n",
    "# ステップ5:得た古典ビットにより、ボブが手元の量子状態を変化させる\n",
    "circuit.x(2).c_if(cr1,1)\n",
    "circuit.x(2).c_if(cr0,1)\n",
    "\n",
    "# 実行と結果取得(statevector_simulatorを利用)\n",
    "backend = StatevectorSimulator()\n",
    "result = backend.run(circuit).result().get_statevector(circuit, decimals=3)\n",
    "#job = execute(circuit, backend)\n",
    "#result = job.result()\n",
    "\n",
    "#statevector = result.get_statevector(circuit)\n",
    "print([str(coef) + label for (coef, label) in zip(result, state_label)])"
   ]
  },
  {
   "cell_type": "code",
   "execution_count": null,
   "id": "cfb72651-1b17-4a41-a413-678a6513c0c7",
   "metadata": {},
   "outputs": [],
   "source": []
  }
 ],
 "metadata": {
  "kernelspec": {
   "display_name": "Python 3 (ipykernel)",
   "language": "python",
   "name": "python3"
  },
  "language_info": {
   "codemirror_mode": {
    "name": "ipython",
    "version": 3
   },
   "file_extension": ".py",
   "mimetype": "text/x-python",
   "name": "python",
   "nbconvert_exporter": "python",
   "pygments_lexer": "ipython3",
   "version": "3.10.12"
  }
 },
 "nbformat": 4,
 "nbformat_minor": 5
}
