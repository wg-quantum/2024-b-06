{
 "cells": [
  {
   "cell_type": "code",
   "execution_count": 1,
   "id": "d8cf4603-cc86-4e22-9332-f27f9bbbe51d",
   "metadata": {},
   "outputs": [
    {
     "data": {
      "text/plain": [
       "'1.2.0'"
      ]
     },
     "execution_count": 1,
     "metadata": {},
     "output_type": "execute_result"
    }
   ],
   "source": [
    "# https://qiskit.github.io/qiskit-aer/tutorials/3_building_noise_models.html\n",
    "import qiskit\n",
    "qiskit.__version__"
   ]
  },
  {
   "cell_type": "code",
   "execution_count": 3,
   "id": "e24b9cbb-f89c-485a-9d2c-2e64a1876ab1",
   "metadata": {},
   "outputs": [],
   "source": [
    "import numpy as np\n",
    "\n",
    "# Importing standard Qiskit libralies\n",
    "from qiskit import QuantumCircuit, transpile\n",
    "from qiskit.quantum_info import SparsePauliOp\n",
    "from qiskit.transpiler.preset_passmanagers import generate_preset_pass_manager\n",
    "from qiskit_ibm_runtime import EstimatorV2 as Estimator\n",
    "from qiskit_ibm_runtime import SamplerV2\n",
    "#from qiskit_ibm_provider import IBMProvider\n",
    "from qiskit.visualization import plot_histogram, plot_distribution\n",
    "from qiskit.providers.fake_provider import GenericBackendV2, FakeQasmBackend\n",
    "from qiskit_aer import StatevectorSimulator, AerSimulator\n",
    "from qiskit import ClassicalRegister, QuantumRegister\n",
    "# Import from Qiskit Aer noise module\n",
    "from qiskit_aer.noise import (NoiseModel, QuantumError, ReadoutError, pauli_error, depolarizing_error, thermal_relaxation_error)"
   ]
  },
  {
   "cell_type": "code",
   "execution_count": 4,
   "id": "e42f9866-cce4-4678-8142-ef9e286a2844",
   "metadata": {},
   "outputs": [],
   "source": [
    "# ノイズモデルの設定\n",
    "noise_bit_flip = NoiseModel()\n",
    "p_gate1 = 0.1\n",
    "error = pauli_error([('I', 1 - p_gate1),('X',p_gate1)])\n",
    "noise_bit_flip.add_all_qubit_quantum_error(error,[\"id\"])"
   ]
  },
  {
   "cell_type": "code",
   "execution_count": 5,
   "id": "218ef5b3-96ae-4d50-9cb2-413124f0be81",
   "metadata": {},
   "outputs": [],
   "source": [
    "circuit = QuantumCircuit(5,2)"
   ]
  },
  {
   "cell_type": "code",
   "execution_count": 6,
   "id": "deafbf0b-3af9-4c06-b7eb-be19c8417124",
   "metadata": {},
   "outputs": [
    {
     "data": {
      "text/plain": [
       "CircuitInstruction(operation=Instruction(name='barrier', num_qubits=5, num_clbits=0, params=[]), qubits=(Qubit(QuantumRegister(5, 'q'), 0), Qubit(QuantumRegister(5, 'q'), 1), Qubit(QuantumRegister(5, 'q'), 2), Qubit(QuantumRegister(5, 'q'), 3), Qubit(QuantumRegister(5, 'q'), 4)), clbits=())"
      ]
     },
     "execution_count": 6,
     "metadata": {},
     "output_type": "execute_result"
    }
   ],
   "source": [
    "# 量子状態を反復\n",
    "circuit.cx(0,[1,2])\n",
    "circuit.barrier()"
   ]
  },
  {
   "cell_type": "code",
   "execution_count": 8,
   "id": "7272c6aa-fc9b-44d8-b41a-11fac5c91a45",
   "metadata": {},
   "outputs": [
    {
     "data": {
      "text/plain": [
       "CircuitInstruction(operation=Instruction(name='barrier', num_qubits=5, num_clbits=0, params=[]), qubits=(Qubit(QuantumRegister(5, 'q'), 0), Qubit(QuantumRegister(5, 'q'), 1), Qubit(QuantumRegister(5, 'q'), 2), Qubit(QuantumRegister(5, 'q'), 3), Qubit(QuantumRegister(5, 'q'), 4)), clbits=())"
      ]
     },
     "execution_count": 8,
     "metadata": {},
     "output_type": "execute_result"
    }
   ],
   "source": [
    "# エラー発生\n",
    "circuit.id([0,1,2])\n",
    "circuit.barrier()"
   ]
  },
  {
   "cell_type": "code",
   "execution_count": 9,
   "id": "db8b9ca4-968e-414b-9f39-4606bf6b7a93",
   "metadata": {},
   "outputs": [
    {
     "data": {
      "text/plain": [
       "CircuitInstruction(operation=Instruction(name='barrier', num_qubits=5, num_clbits=0, params=[]), qubits=(Qubit(QuantumRegister(5, 'q'), 0), Qubit(QuantumRegister(5, 'q'), 1), Qubit(QuantumRegister(5, 'q'), 2), Qubit(QuantumRegister(5, 'q'), 3), Qubit(QuantumRegister(5, 'q'), 4)), clbits=())"
      ]
     },
     "execution_count": 9,
     "metadata": {},
     "output_type": "execute_result"
    }
   ],
   "source": [
    "# 誤り検出\n",
    "circuit.cx(0,3)\n",
    "circuit.cx(1,3)\n",
    "circuit.cx(1,4)\n",
    "circuit.cx(2,4)\n",
    "circuit.barrier()\n"
   ]
  },
  {
   "cell_type": "code",
   "execution_count": 10,
   "id": "2b6ebd8d-443e-42da-8dff-41e56590e4a8",
   "metadata": {},
   "outputs": [
    {
     "data": {
      "text/plain": [
       "<qiskit.circuit.instructionset.InstructionSet at 0x7f2853b558a0>"
      ]
     },
     "execution_count": 10,
     "metadata": {},
     "output_type": "execute_result"
    }
   ],
   "source": [
    "# 測定\n",
    "circuit.measure([3,4],[0,1])"
   ]
  },
  {
   "cell_type": "code",
   "execution_count": 11,
   "id": "9a0fd7e5-6215-4066-bbc4-cb70686604a6",
   "metadata": {},
   "outputs": [
    {
     "name": "stdout",
     "output_type": "stream",
     "text": [
      "{'00': 1000}\n"
     ]
    },
    {
     "data": {
      "image/png": "[encoded data removed]",
      "text/plain": [
       "<Figure size 640x480 with 1 Axes>"
      ]
     },
     "execution_count": 11,
     "metadata": {},
     "output_type": "execute_result"
    }
   ],
   "source": [
    "# 実行と結果取得\n",
    "backend = AerSimulator(noise_model=noise_bit_flip)\n",
    "transpiled_circuit = transpile(circuit, backend)\n",
    "result = backend.run(transpiled_circuit, shots=1000, optimization_level = 0).result()\n",
    "print(result.get_counts(circuit))\n",
    "plot_histogram(result.get_counts(circuit))"
   ]
  },
  {
   "cell_type": "code",
   "execution_count": null,
   "id": "a2f25d88-0bb0-4576-8a9f-9c587c18be53",
   "metadata": {},
   "outputs": [],
   "source": []
  }
 ],
 "metadata": {
  "kernelspec": {
   "display_name": "Python 3 (ipykernel)",
   "language": "python",
   "name": "python3"
  },
  "language_info": {
   "codemirror_mode": {
    "name": "ipython",
    "version": 3
   },
   "file_extension": ".py",
   "mimetype": "text/x-python",
   "name": "python",
   "nbconvert_exporter": "python",
   "pygments_lexer": "ipython3",
   "version": "3.10.12"
  }
 },
 "nbformat": 4,
 "nbformat_minor": 5
}
