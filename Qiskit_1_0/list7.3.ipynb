{
 "cells": [
  {
   "cell_type": "code",
   "execution_count": 1,
   "id": "cda05be6-b680-48ec-8abc-560ebc948d2f",
   "metadata": {},
   "outputs": [],
   "source": [
    "# Importing standard Qiskit libralies\n",
    "from qiskit import QuantumCircuit\n",
    "from qiskit.transpiler.preset_passmanagers import generate_preset_pass_manager\n",
    "from qiskit_ibm_runtime import Sampler\n",
    "from qiskit.visualization import plot_distribution, plot_histogram\n",
    "from qiskit_aer import AerSimulator"
   ]
  },
  {
   "cell_type": "code",
   "execution_count": 2,
   "id": "cbdcbd2b-8a46-43e1-a00b-83421b1e9bc5",
   "metadata": {},
   "outputs": [
    {
     "data": {
      "text/plain": [
       "'1.2.1'"
      ]
     },
     "execution_count": 2,
     "metadata": {},
     "output_type": "execute_result"
    }
   ],
   "source": [
    "import qiskit\n",
    "qiskit.__version__"
   ]
  },
  {
   "cell_type": "code",
   "execution_count": 3,
   "id": "9e03e4d4-0562-441d-b729-da197e048632",
   "metadata": {},
   "outputs": [],
   "source": [
    "# 量子回路の初期化\n",
    "circuit = QuantumCircuit(2)\n",
    "\n",
    "# 量子回路の組み立て\n",
    "circuit.h(0) # アダマールゲート行列を適用\n",
    "circuit.cx(0,1) # CNOTを適用\n",
    "\n",
    "# 測定\n",
    "circuit.measure_all()"
   ]
  }
 ],
 "metadata": {
  "kernelspec": {
   "display_name": "Python 3 (ipykernel)",
   "language": "python",
   "name": "python3"
  },
  "language_info": {
   "codemirror_mode": {
    "name": "ipython",
    "version": 3
   },
   "file_extension": ".py",
   "mimetype": "text/x-python",
   "name": "python",
   "nbconvert_exporter": "python",
   "pygments_lexer": "ipython3",
   "version": "3.12.3"
  }
 },
 "nbformat": 4,
 "nbformat_minor": 5
}
