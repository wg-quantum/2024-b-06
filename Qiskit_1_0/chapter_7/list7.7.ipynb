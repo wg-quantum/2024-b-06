{
 "cells": [
  {
   "cell_type": "code",
   "execution_count": 1,
   "id": "9daa3b6b-adb0-4074-89bc-7343d399fd3b",
   "metadata": {},
   "outputs": [],
   "source": [
    "# Importing standard Qiskit libralies\n",
    "from qiskit import QuantumCircuit, QuantumRegister, ClassicalRegister\n",
    "from qiskit.transpiler.preset_passmanagers import generate_preset_pass_manager\n",
    "from qiskit_ibm_runtime import Sampler\n",
    "from qiskit.visualization import plot_distribution, plot_histogram\n",
    "from qiskit_aer import AerSimulator"
   ]
  },
  {
   "cell_type": "code",
   "execution_count": 2,
   "id": "87b1a8a8-fdca-4bb4-a4a2-9efc19c0b821",
   "metadata": {},
   "outputs": [
    {
     "data": {
      "text/plain": [
       "<qiskit.circuit.instructionset.InstructionSet at 0x1167f04c0>"
      ]
     },
     "execution_count": 2,
     "metadata": {},
     "output_type": "execute_result"
    }
   ],
   "source": [
    "# 量子回路の初期化\n",
    "qr = QuantumRegister(2,\"q\") #量子レジスタを作成\n",
    "cr = ClassicalRegister(2, \"c\") # 古典レジスタを作成\n",
    "circuit = QuantumCircuit(qr, cr) # レジスタを使い量子回路を初期化\n",
    "\n",
    "# 量子回路の組み立て\n",
    "circuit.h(qr[0]) # アダマールゲート行列を適用\n",
    "circuit.cx(qr[0],qr[1]) # CNOTを適用\n",
    "\n",
    "# 測定\n",
    "circuit.measure(qr,cr)"
   ]
  },
  {
   "cell_type": "code",
   "execution_count": null,
   "id": "0b4c8d74-3940-4684-898a-f88eadcc82e4",
   "metadata": {},
   "outputs": [],
   "source": []
  }
 ],
 "metadata": {
  "kernelspec": {
   "display_name": "Python 3 (ipykernel)",
   "language": "python",
   "name": "python3"
  },
  "language_info": {
   "codemirror_mode": {
    "name": "ipython",
    "version": 3
   },
   "file_extension": ".py",
   "mimetype": "text/x-python",
   "name": "python",
   "nbconvert_exporter": "python",
   "pygments_lexer": "ipython3",
   "version": "3.12.3"
  }
 },
 "nbformat": 4,
 "nbformat_minor": 5
}
