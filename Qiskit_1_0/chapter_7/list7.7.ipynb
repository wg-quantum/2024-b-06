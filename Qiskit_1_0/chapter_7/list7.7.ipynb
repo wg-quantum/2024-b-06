{
 "cells": [
  {
   "cell_type": "code",
   "execution_count": 1,
   "id": "9daa3b6b-adb0-4074-89bc-7343d399fd3b",
   "metadata": {},
   "outputs": [
    {
     "name": "stderr",
     "output_type": "stream",
     "text": [
      "/tmp/ipykernel_3886/415968212.py:8: DeprecationWarning: The package qiskit_ibm_provider is being deprecated. Please see https://docs.quantum.ibm.com/api/migration-guides/qiskit-runtime to get instructions on how to migrate to qiskit-ibm-runtime (https://github.com/Qiskit/qiskit-ibm-runtime).\n",
      "  from qiskit_ibm_provider import IBMProvider\n"
     ]
    }
   ],
   "source": [
    "import numpy as np\n",
    "\n",
    "# Importing standard Qiskit libralies\n",
    "from qiskit import QuantumCircuit, transpile\n",
    "from qiskit.quantum_info import SparsePauliOp\n",
    "from qiskit.transpiler.preset_passmanagers import generate_preset_pass_manager\n",
    "from qiskit_ibm_runtime import EstimatorV2 as Estimator\n",
    "from qiskit_ibm_provider import IBMProvider\n",
    "from qiskit.visualization import plot_histogram\n",
    "from qiskit.providers.fake_provider import GenericBackendV2, FakeQasmBackend\n",
    "from qiskit import ClassicalRegister, QuantumRegister\n"
   ]
  },
  {
   "cell_type": "code",
   "execution_count": 2,
   "id": "87b1a8a8-fdca-4bb4-a4a2-9efc19c0b821",
   "metadata": {},
   "outputs": [
    {
     "data": {
      "text/plain": [
       "<qiskit.circuit.instructionset.InstructionSet at 0x7f90a014f070>"
      ]
     },
     "execution_count": 2,
     "metadata": {},
     "output_type": "execute_result"
    }
   ],
   "source": [
    "# 量子回路の初期化\n",
    "qr = QuantumRegister(2,\"q\") #量子レジスタを作成\n",
    "cr = ClassicalRegister(2, \"c\") # 古典レジスタを作成\n",
    "circuit = QuantumCircuit(qr, cr) # レジスタを使い量子回路を初期化\n",
    "\n",
    "# 量子回路の組み立て\n",
    "circuit.h(qr[0]) # アダマールゲート行列を適用\n",
    "circuit.cx(qr[0],qr[1]) # CNOTを適用\n",
    "\n",
    "# 測定\n",
    "circuit.measure(qr,cr)"
   ]
  }
 ],
 "metadata": {
  "kernelspec": {
   "display_name": "Python 3 (ipykernel)",
   "language": "python",
   "name": "python3"
  },
  "language_info": {
   "codemirror_mode": {
    "name": "ipython",
    "version": 3
   },
   "file_extension": ".py",
   "mimetype": "text/x-python",
   "name": "python",
   "nbconvert_exporter": "python",
   "pygments_lexer": "ipython3",
   "version": "3.10.12"
  }
 },
 "nbformat": 4,
 "nbformat_minor": 5
}
