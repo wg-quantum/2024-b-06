{
 "cells": [
  {
   "cell_type": "code",
   "execution_count": null,
   "id": "cda05be6-b680-48ec-8abc-560ebc948d2f",
   "metadata": {},
   "outputs": [],
   "source": [
    "import numpy as np\n",
    "\n",
    "# Importing standard Qiskit libralies\n",
    "from qiskit import QuantumCircuit, transpile\n",
    "from qiskit.quantum_info import SparsePauliOp\n",
    "from qiskit.transpiler.preset_passmanagers import generate_preset_pass_manager\n",
    "from qiskit_ibm_runtime import EstimatorV2 as Estimator\n",
    "from qiskit_ibm_provider import IBMProvider\n",
    "from qiskit.visualization import plot_histogram\n",
    "\n",
    "# Loading your IBM Quantum account(s)\n",
    "IBMProvider.save_account(token='541911fe37aeb70df814185286e6f333d1191808ad7b04ed51603d38b8655ccc2b88d84be15c4f1690ea9640f3fcfca7e2305ddf8220cbc736dad7e6c8000b65', overwrite=True )\n",
    "provider = IBMProvider()\n"
   ]
  },
  {
   "cell_type": "code",
   "execution_count": null,
   "id": "cbdcbd2b-8a46-43e1-a00b-83421b1e9bc5",
   "metadata": {},
   "outputs": [],
   "source": [
    "import qiskit\n",
    "qiskit.__version__"
   ]
  },
  {
   "cell_type": "code",
   "execution_count": null,
   "id": "9e03e4d4-0562-441d-b729-da197e048632",
   "metadata": {},
   "outputs": [],
   "source": [
    "# 量子回路の初期化\n",
    "circuit = QuantumCircuit(2)\n",
    "\n",
    "# 量子回路の組み立て\n",
    "circuit.h(0) # アダマールゲート行列を適用\n",
    "circuit.cx(0,1) # CNOTを適用\n",
    "\n",
    "# 測定\n",
    "circuit.measure_all()"
   ]
  },
  {
   "cell_type": "code",
   "execution_count": null,
   "id": "633fbc3e-c22a-4c60-bba1-8a913a72a971",
   "metadata": {},
   "outputs": [],
   "source": []
  }
 ],
 "metadata": {
  "kernelspec": {
   "display_name": "Python 3 (ipykernel)",
   "language": "python",
   "name": "python3"
  },
  "language_info": {
   "codemirror_mode": {
    "name": "ipython",
    "version": 3
   },
   "file_extension": ".py",
   "mimetype": "text/x-python",
   "name": "python",
   "nbconvert_exporter": "python",
   "pygments_lexer": "ipython3",
   "version": "3.10.12"
  }
 },
 "nbformat": 4,
 "nbformat_minor": 5
}
