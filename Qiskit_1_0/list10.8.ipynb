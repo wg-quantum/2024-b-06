{
 "cells": [
  {
   "cell_type": "code",
   "execution_count": 1,
   "id": "02229c26-4af5-4900-9cf8-ad64ae7258c9",
   "metadata": {},
   "outputs": [
    {
     "data": {
      "text/plain": [
       "'1.2.0'"
      ]
     },
     "execution_count": 1,
     "metadata": {},
     "output_type": "execute_result"
    }
   ],
   "source": [
    "# https://qiskit.github.io/qiskit-aer/tutorials/3_building_noise_models.html\n",
    "import qiskit\n",
    "qiskit.__version__"
   ]
  },
  {
   "cell_type": "code",
   "execution_count": 2,
   "id": "60f38c48-af74-4fc3-bc16-4411ec4d89cb",
   "metadata": {},
   "outputs": [],
   "source": [
    "import numpy as np\n",
    "\n",
    "# Importing standard Qiskit libralies\n",
    "from qiskit import QuantumCircuit, transpile\n",
    "from qiskit.quantum_info import SparsePauliOp\n",
    "from qiskit.transpiler.preset_passmanagers import generate_preset_pass_manager\n",
    "from qiskit_ibm_runtime import EstimatorV2 as Estimator\n",
    "from qiskit_ibm_runtime import SamplerV2\n",
    "#from qiskit_ibm_provider import IBMProvider\n",
    "from qiskit.visualization import plot_histogram, plot_distribution\n",
    "from qiskit.providers.fake_provider import GenericBackendV2, FakeQasmBackend\n",
    "from qiskit_aer import StatevectorSimulator, AerSimulator\n",
    "from qiskit import ClassicalRegister, QuantumRegister\n",
    "# Import from Qiskit Aer noise module\n",
    "from qiskit_aer.noise import (NoiseModel, QuantumError, ReadoutError, pauli_error, depolarizing_error, thermal_relaxation_error)"
   ]
  },
  {
   "cell_type": "code",
   "execution_count": 3,
   "id": "b83a8ccc-6a14-4b6e-88e5-200bc77d2a0d",
   "metadata": {},
   "outputs": [],
   "source": [
    "# ノイズモデルの設定\n",
    "noise_bit_flip = NoiseModel()\n",
    "p_gate1 = 0.1\n",
    "error = pauli_error([('I', 1 - p_gate1),('X',p_gate1)])\n",
    "noise_bit_flip.add_all_qubit_quantum_error(error,[\"id\"])"
   ]
  },
  {
   "cell_type": "code",
   "execution_count": 4,
   "id": "277fec1e-cf6d-4d99-8d80-52a9db1a8694",
   "metadata": {},
   "outputs": [],
   "source": [
    "# 量子回路の初期化\n",
    "circuit = QuantumCircuit(5,4)"
   ]
  },
  {
   "cell_type": "code",
   "execution_count": 5,
   "id": "59945c13-c0c2-4f6d-aeae-3482dd68b9cf",
   "metadata": {},
   "outputs": [
    {
     "data": {
      "text/plain": [
       "CircuitInstruction(operation=Instruction(name='barrier', num_qubits=5, num_clbits=0, params=[]), qubits=(Qubit(QuantumRegister(5, 'q'), 0), Qubit(QuantumRegister(5, 'q'), 1), Qubit(QuantumRegister(5, 'q'), 2), Qubit(QuantumRegister(5, 'q'), 3), Qubit(QuantumRegister(5, 'q'), 4)), clbits=())"
      ]
     },
     "execution_count": 5,
     "metadata": {},
     "output_type": "execute_result"
    }
   ],
   "source": [
    "# 量子状態を反復\n",
    "circuit.cx(0,[1,2])\n",
    "circuit.barrier()"
   ]
  },
  {
   "cell_type": "code",
   "execution_count": 6,
   "id": "712d5c34-5dd1-4288-a8bd-1c85a55a0ea5",
   "metadata": {},
   "outputs": [
    {
     "data": {
      "text/plain": [
       "CircuitInstruction(operation=Instruction(name='barrier', num_qubits=5, num_clbits=0, params=[]), qubits=(Qubit(QuantumRegister(5, 'q'), 0), Qubit(QuantumRegister(5, 'q'), 1), Qubit(QuantumRegister(5, 'q'), 2), Qubit(QuantumRegister(5, 'q'), 3), Qubit(QuantumRegister(5, 'q'), 4)), clbits=())"
      ]
     },
     "execution_count": 6,
     "metadata": {},
     "output_type": "execute_result"
    }
   ],
   "source": [
    "# エラー発生\n",
    "circuit.id([0,1,2])\n",
    "circuit.barrier()"
   ]
  },
  {
   "cell_type": "code",
   "execution_count": 7,
   "id": "3353ea05-8f9f-4ee8-bab9-ed6f6b198760",
   "metadata": {},
   "outputs": [
    {
     "data": {
      "text/plain": [
       "CircuitInstruction(operation=Instruction(name='barrier', num_qubits=5, num_clbits=0, params=[]), qubits=(Qubit(QuantumRegister(5, 'q'), 0), Qubit(QuantumRegister(5, 'q'), 1), Qubit(QuantumRegister(5, 'q'), 2), Qubit(QuantumRegister(5, 'q'), 3), Qubit(QuantumRegister(5, 'q'), 4)), clbits=())"
      ]
     },
     "execution_count": 7,
     "metadata": {},
     "output_type": "execute_result"
    }
   ],
   "source": [
    "# 誤り検出\n",
    "circuit.cx(0,3)\n",
    "circuit.cx(1,3)\n",
    "circuit.cx(1,4)\n",
    "circuit.cx(2,4)\n",
    "circuit.barrier()"
   ]
  },
  {
   "cell_type": "code",
   "execution_count": 9,
   "id": "e16fec9e-6903-4e62-9282-cb7f22c96dc5",
   "metadata": {},
   "outputs": [
    {
     "data": {
      "text/plain": [
       "CircuitInstruction(operation=Instruction(name='barrier', num_qubits=5, num_clbits=0, params=[]), qubits=(Qubit(QuantumRegister(5, 'q'), 0), Qubit(QuantumRegister(5, 'q'), 1), Qubit(QuantumRegister(5, 'q'), 2), Qubit(QuantumRegister(5, 'q'), 3), Qubit(QuantumRegister(5, 'q'), 4)), clbits=())"
      ]
     },
     "execution_count": 9,
     "metadata": {},
     "output_type": "execute_result"
    }
   ],
   "source": [
    "# 誤り訂正\n",
    "circuit.cx(3,0)\n",
    "circuit.ccx(3,4,0)\n",
    "circuit.ccx(3,4,1)\n",
    "circuit.cx(4,2)\n",
    "circuit.ccx(3,4,2)\n",
    "circuit.barrier()"
   ]
  },
  {
   "cell_type": "code",
   "execution_count": 10,
   "id": "7b963afa-eb29-4d1a-aa13-40e0adf9237a",
   "metadata": {},
   "outputs": [
    {
     "data": {
      "text/plain": [
       "<qiskit.circuit.instructionset.InstructionSet at 0x7ff80a8afd00>"
      ]
     },
     "execution_count": 10,
     "metadata": {},
     "output_type": "execute_result"
    }
   ],
   "source": [
    "# 測定\n",
    "circuit.measure([0,1,2],[0,1,2])"
   ]
  },
  {
   "cell_type": "code",
   "execution_count": 11,
   "id": "59ace017-dd89-49c3-aea4-129955dc1446",
   "metadata": {},
   "outputs": [
    {
     "name": "stdout",
     "output_type": "stream",
     "text": [
      "{'0000': 1000}\n"
     ]
    },
    {
     "data": {
      "image/png": "[encoded data removed]",
      "text/plain": [
       "<Figure size 640x480 with 1 Axes>"
      ]
     },
     "execution_count": 11,
     "metadata": {},
     "output_type": "execute_result"
    }
   ],
   "source": [
    "# 実行と結果取得\n",
    "backend = AerSimulator(noise_model=noise_bit_flip)\n",
    "transpiled_circuit = transpile(circuit, backend)\n",
    "result = backend.run(transpiled_circuit, shots=1000, optimization_level = 0).result()\n",
    "print(result.get_counts(circuit))\n",
    "plot_histogram(result.get_counts(circuit))"
   ]
  },
  {
   "cell_type": "code",
   "execution_count": null,
   "id": "ef7faee2-c67c-4cc0-9cc0-e6a0938cc9e6",
   "metadata": {},
   "outputs": [],
   "source": []
  }
 ],
 "metadata": {
  "kernelspec": {
   "display_name": "Python 3 (ipykernel)",
   "language": "python",
   "name": "python3"
  },
  "language_info": {
   "codemirror_mode": {
    "name": "ipython",
    "version": 3
   },
   "file_extension": ".py",
   "mimetype": "text/x-python",
   "name": "python",
   "nbconvert_exporter": "python",
   "pygments_lexer": "ipython3",
   "version": "3.10.12"
  }
 },
 "nbformat": 4,
 "nbformat_minor": 5
}
