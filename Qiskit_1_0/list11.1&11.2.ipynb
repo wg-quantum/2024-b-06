{
 "cells": [
  {
   "cell_type": "code",
   "execution_count": 1,
   "id": "73966bcf-77e4-4260-a91d-9ba6a61a46b0",
   "metadata": {},
   "outputs": [],
   "source": [
    "import numpy as np\n",
    "\n",
    "# Importing standard Qiskit libralies\n",
    "from qiskit import QuantumCircuit\n",
    "from qiskit.transpiler.preset_passmanagers import generate_preset_pass_manager\n",
    "from qiskit_ibm_runtime import Sampler\n",
    "from qiskit_aer import AerSimulator"
   ]
  },
  {
   "cell_type": "code",
   "execution_count": 2,
   "id": "24ce6141-b41c-4e18-9bb4-d14d581c4668",
   "metadata": {},
   "outputs": [],
   "source": [
    "def Uf00(circuit):\n",
    " pass\n",
    "\n",
    "def Uf01(circuit):\n",
    "    circuit.cx(0,1)\n",
    "\n",
    "def Uf10(circuit):\n",
    "    circuit.x(1)\n",
    "    circuit.cx(0,1)\n",
    "\n",
    "def Uf11(circuit):\n",
    "    circuit.x(1)"
   ]
  },
  {
   "cell_type": "code",
   "execution_count": 3,
   "id": "5063b971-c5ff-4995-a882-249aabdd8ef8",
   "metadata": {},
   "outputs": [
    {
     "data": {
      "image/png": "[encoded data removed]",
      "text/plain": [
       "<Figure size 454.517x284.278 with 1 Axes>"
      ]
     },
     "execution_count": 3,
     "metadata": {},
     "output_type": "execute_result"
    }
   ],
   "source": [
    "# 量子回路の初期化\n",
    "circuit = QuantumCircuit(2,1)\n",
    "\n",
    "# パウリX行列を全体に適用\n",
    "circuit.x([0,1])\n",
    "\n",
    "# アダマール行列を全体に適用\n",
    "circuit.h([0,1])\n",
    "\n",
    "# オラクルを実行\n",
    "Uf00(circuit)\n",
    "\n",
    "# アダマール行列を左の量子ビットに適用\n",
    "circuit.h(0)\n",
    "\n",
    "# 測定\n",
    "circuit.measure(0,0)\n",
    "\n",
    "circuit.draw(\"mpl\")"
   ]
  },
  {
   "cell_type": "code",
   "execution_count": 4,
   "id": "c79c893b-4453-434a-bef3-94f715754ece",
   "metadata": {},
   "outputs": [
    {
     "name": "stdout",
     "output_type": "stream",
     "text": [
      "{'1': 1000}\n"
     ]
    }
   ],
   "source": [
    "# 実行と結果取得\n",
    "backend = AerSimulator()\n",
    "\n",
    "pm = generate_preset_pass_manager(backend=backend, optimization_level=1)\n",
    "isa_qc = pm.run(circuit)\n",
    "\n",
    "sampler = Sampler(mode=backend)\n",
    "job = sampler.run([isa_qc], shots=1000)\n",
    "result = job.result()\n",
    "\n",
    "counts = result[0].data.c.get_counts()\n",
    "print(counts)"
   ]
  },
  {
   "cell_type": "code",
   "execution_count": null,
   "id": "1a3f6588-6169-4bcd-94cf-ad7ee932b169",
   "metadata": {},
   "outputs": [],
   "source": []
  }
 ],
 "metadata": {
  "kernelspec": {
   "display_name": "Python 3 (ipykernel)",
   "language": "python",
   "name": "python3"
  },
  "language_info": {
   "codemirror_mode": {
    "name": "ipython",
    "version": 3
   },
   "file_extension": ".py",
   "mimetype": "text/x-python",
   "name": "python",
   "nbconvert_exporter": "python",
   "pygments_lexer": "ipython3",
   "version": "3.12.3"
  }
 },
 "nbformat": 4,
 "nbformat_minor": 5
}
