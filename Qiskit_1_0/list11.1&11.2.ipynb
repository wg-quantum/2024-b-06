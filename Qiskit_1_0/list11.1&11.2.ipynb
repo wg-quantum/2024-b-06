{
 "cells": [
  {
   "cell_type": "code",
   "execution_count": 36,
   "id": "73966bcf-77e4-4260-a91d-9ba6a61a46b0",
   "metadata": {},
   "outputs": [],
   "source": [
    "import numpy as np\n",
    "\n",
    "# Importing standard Qiskit libralies\n",
    "from qiskit import QuantumCircuit, transpile\n",
    "from qiskit.quantum_info import SparsePauliOp\n",
    "from qiskit.transpiler.preset_passmanagers import generate_preset_pass_manager\n",
    "from qiskit_ibm_runtime import EstimatorV2 as Estimator\n",
    "from qiskit_ibm_runtime import SamplerV2\n",
    "#from qiskit_ibm_provider import IBMProvider\n",
    "from qiskit.visualization import plot_histogram, plot_distribution\n",
    "from qiskit.providers.fake_provider import GenericBackendV2, FakeQasmBackend\n",
    "from qiskit_aer import StatevectorSimulator, AerSimulator\n",
    "from qiskit import ClassicalRegister, QuantumRegister\n",
    "# Import from Qiskit Aer noise module\n",
    "from qiskit_aer.noise import (NoiseModel, QuantumError, ReadoutError, pauli_error, depolarizing_error, thermal_relaxation_error)"
   ]
  },
  {
   "cell_type": "code",
   "execution_count": 37,
   "id": "24ce6141-b41c-4e18-9bb4-d14d581c4668",
   "metadata": {},
   "outputs": [],
   "source": [
    "def Uf00(circuit):\n",
    "    pass\n",
    "\n",
    "def Uf01(circuit):\n",
    "    circuit.cx(0,1)\n",
    "\n",
    "def Uf10(circuit):\n",
    "    circuit.x(1)\n",
    "    circuit.cx(0,1)\n",
    "\n",
    "def Uf11(circuit):\n",
    "    circuit.x(1)\n"
   ]
  },
  {
   "cell_type": "code",
   "execution_count": 38,
   "id": "5063b971-c5ff-4995-a882-249aabdd8ef8",
   "metadata": {},
   "outputs": [],
   "source": [
    "# 量子回路の初期化\n",
    "circuit = QuantumCircuit(2,1)"
   ]
  },
  {
   "cell_type": "code",
   "execution_count": 39,
   "id": "da1668b7-6e1c-4c9c-ac41-be2c0eb58430",
   "metadata": {},
   "outputs": [
    {
     "data": {
      "text/plain": [
       "<qiskit.circuit.instructionset.InstructionSet at 0x7f3c42e67400>"
      ]
     },
     "execution_count": 39,
     "metadata": {},
     "output_type": "execute_result"
    }
   ],
   "source": [
    "# パウリX行列を全体に適用\n",
    "circuit.x([0,1])\n",
    "# 仇マール行列を全体に適用\n",
    "circuit.h([0,1])"
   ]
  },
  {
   "cell_type": "code",
   "execution_count": 40,
   "id": "4b1aa8c5-dcbd-4b51-8ee5-3fae13dcdb0f",
   "metadata": {},
   "outputs": [],
   "source": [
    "# オラクルを実行\n",
    "Uf00(circuit)"
   ]
  },
  {
   "cell_type": "code",
   "execution_count": 41,
   "id": "da14d562-e859-4650-9e3f-449104790bdb",
   "metadata": {},
   "outputs": [
    {
     "data": {
      "text/plain": [
       "<qiskit.circuit.instructionset.InstructionSet at 0x7f3c42e673a0>"
      ]
     },
     "execution_count": 41,
     "metadata": {},
     "output_type": "execute_result"
    }
   ],
   "source": [
    "# 仇マール行列を左の量子ビットに適用\n",
    "circuit.h(0)"
   ]
  },
  {
   "cell_type": "code",
   "execution_count": 42,
   "id": "12ce88c3-ad18-4153-a0ca-bdda88f18bbb",
   "metadata": {},
   "outputs": [
    {
     "data": {
      "text/plain": [
       "<qiskit.circuit.instructionset.InstructionSet at 0x7f3c4021e0b0>"
      ]
     },
     "execution_count": 42,
     "metadata": {},
     "output_type": "execute_result"
    }
   ],
   "source": [
    "# 測定\n",
    "circuit.measure(0,0)"
   ]
  },
  {
   "cell_type": "code",
   "execution_count": 43,
   "id": "f116671a-b527-417e-b843-e44b7ee96581",
   "metadata": {},
   "outputs": [
    {
     "name": "stdout",
     "output_type": "stream",
     "text": [
      "{'1': 1024}\n"
     ]
    }
   ],
   "source": [
    "# 実行と結果取得\n",
    "simulator = AerSimulator()\n",
    "result_ideal = simulator.run(circuit).result()\n",
    "print(result_ideal.get_counts(circuit))"
   ]
  },
  {
   "cell_type": "code",
   "execution_count": null,
   "id": "1a3f6588-6169-4bcd-94cf-ad7ee932b169",
   "metadata": {},
   "outputs": [],
   "source": []
  }
 ],
 "metadata": {
  "kernelspec": {
   "display_name": "Python 3 (ipykernel)",
   "language": "python",
   "name": "python3"
  },
  "language_info": {
   "codemirror_mode": {
    "name": "ipython",
    "version": 3
   },
   "file_extension": ".py",
   "mimetype": "text/x-python",
   "name": "python",
   "nbconvert_exporter": "python",
   "pygments_lexer": "ipython3",
   "version": "3.10.12"
  }
 },
 "nbformat": 4,
 "nbformat_minor": 5
}
