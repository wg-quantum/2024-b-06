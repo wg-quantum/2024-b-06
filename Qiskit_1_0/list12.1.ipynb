{
 "cells": [
  {
   "cell_type": "code",
   "execution_count": 1,
   "id": "6411f81b-1754-4a0c-bb14-acb233d1ece3",
   "metadata": {},
   "outputs": [],
   "source": [
    "import numpy as np\n",
    "\n",
    "# Importing standard Qiskit libralies\n",
    "from qiskit import QuantumCircuit, transpile\n",
    "from qiskit.quantum_info import SparsePauliOp\n",
    "from qiskit.transpiler.preset_passmanagers import generate_preset_pass_manager\n",
    "from qiskit_ibm_runtime import EstimatorV2 as Estimator\n",
    "from qiskit_ibm_runtime import SamplerV2\n",
    "#from qiskit_ibm_provider import IBMProvider\n",
    "from qiskit.visualization import plot_histogram, plot_distribution\n",
    "from qiskit.providers.fake_provider import GenericBackendV2, FakeQasmBackend\n",
    "from qiskit_aer import StatevectorSimulator, AerSimulator\n",
    "from qiskit import ClassicalRegister, QuantumRegister\n",
    "# Import from Qiskit Aer noise module\n",
    "from qiskit_aer.noise import (NoiseModel, QuantumError, ReadoutError, pauli_error, depolarizing_error, thermal_relaxation_error)"
   ]
  },
  {
   "cell_type": "code",
   "execution_count": 2,
   "id": "4d250574-43f7-4f69-b772-0d665b6d186c",
   "metadata": {},
   "outputs": [],
   "source": [
    "# オラクル\n",
    "def oracle(circuit):\n",
    "    circuit.x([0,2])\n",
    "    circuit.mcx([0,1,2],3)"
   ]
  },
  {
   "cell_type": "code",
   "execution_count": 3,
   "id": "0359d352-9dbf-4a8c-bb15-23a4d20a0c11",
   "metadata": {},
   "outputs": [],
   "source": [
    "# 量子回路の初期化\n",
    "circuit = QuantumCircuit(4,3)"
   ]
  },
  {
   "cell_type": "code",
   "execution_count": 4,
   "id": "e67ea2ef-fd70-4399-92d0-a6c17c1efb70",
   "metadata": {},
   "outputs": [
    {
     "data": {
      "text/plain": [
       "<qiskit.circuit.instructionset.InstructionSet at 0x7fd3b837f430>"
      ]
     },
     "execution_count": 4,
     "metadata": {},
     "output_type": "execute_result"
    }
   ],
   "source": [
    "# ステップ1 重ね合わせ状態を作成\n",
    "circuit.x(3)\n",
    "circuit.h([0,1,2,3])"
   ]
  },
  {
   "cell_type": "code",
   "execution_count": 5,
   "id": "789d1205-c1b6-43a9-831c-eeb52f74c613",
   "metadata": {},
   "outputs": [],
   "source": [
    "for _ in range(2):\n",
    "    # ステップ2 選択的回転\n",
    "    oracle(circuit)\n",
    "\n",
    "    # ステップ3 拡散変換\n",
    "    circuit.h([0,1,2])\n",
    "    circuit.x([0,1,2])\n",
    "    circuit.h(2)\n",
    "    circuit.ccx(0,1,2)\n",
    "    circuit.h(2)\n",
    "    circuit.h([0,1,2])\n",
    "    circuit.x([0,1,2])"
   ]
  },
  {
   "cell_type": "code",
   "execution_count": 6,
   "id": "5e28d0ca-59e4-480f-b70a-24ab4b2b7d00",
   "metadata": {},
   "outputs": [
    {
     "data": {
      "text/plain": [
       "CircuitInstruction(operation=Instruction(name='barrier', num_qubits=4, num_clbits=0, params=[]), qubits=(Qubit(QuantumRegister(4, 'q'), 0), Qubit(QuantumRegister(4, 'q'), 1), Qubit(QuantumRegister(4, 'q'), 2), Qubit(QuantumRegister(4, 'q'), 3)), clbits=())"
      ]
     },
     "execution_count": 6,
     "metadata": {},
     "output_type": "execute_result"
    }
   ],
   "source": [
    "# 測定\n",
    "circuit.measure([0,1,2],[0,1,2])\n",
    "circuit.barrier()"
   ]
  },
  {
   "cell_type": "code",
   "execution_count": 7,
   "id": "13f030c2-5f05-4eb5-af89-a6c3c138dda9",
   "metadata": {},
   "outputs": [
    {
     "name": "stdout",
     "output_type": "stream",
     "text": [
      "{'100': 6, '001': 3, '101': 195, '111': 12, '011': 217, '110': 181, '000': 4, '010': 406}\n"
     ]
    }
   ],
   "source": [
    "# 実行と結果の取得\n",
    "simulator = AerSimulator()\n",
    "result_ideal = simulator.run(circuit).result()\n",
    "print(result_ideal.get_counts(circuit))"
   ]
  },
  {
   "cell_type": "code",
   "execution_count": 8,
   "id": "cf734e84-6838-4f25-8ab5-ee073c3d95a6",
   "metadata": {},
   "outputs": [
    {
     "data": {
      "image/png": "[encoded data removed]",
      "text/plain": [
       "<Figure size 640x480 with 1 Axes>"
      ]
     },
     "execution_count": 8,
     "metadata": {},
     "output_type": "execute_result"
    }
   ],
   "source": [
    "plot_histogram(result_ideal.get_counts(0))"
   ]
  },
  {
   "cell_type": "code",
   "execution_count": null,
   "id": "9974e7f0-3a13-4af5-a9da-8f325e4c7dba",
   "metadata": {},
   "outputs": [],
   "source": []
  }
 ],
 "metadata": {
  "kernelspec": {
   "display_name": "Python 3 (ipykernel)",
   "language": "python",
   "name": "python3"
  },
  "language_info": {
   "codemirror_mode": {
    "name": "ipython",
    "version": 3
   },
   "file_extension": ".py",
   "mimetype": "text/x-python",
   "name": "python",
   "nbconvert_exporter": "python",
   "pygments_lexer": "ipython3",
   "version": "3.10.12"
  }
 },
 "nbformat": 4,
 "nbformat_minor": 5
}
