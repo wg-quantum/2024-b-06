{
 "cells": [
  {
   "cell_type": "code",
   "execution_count": 2,
   "id": "993c6eaa-f2b5-448f-ae40-ee952c4a2e5a",
   "metadata": {},
   "outputs": [
    {
     "data": {
      "text/plain": [
       "'1.1.1'"
      ]
     },
     "execution_count": 2,
     "metadata": {},
     "output_type": "execute_result"
    }
   ],
   "source": [
    "# https://qiskit.github.io/qiskit-aer/tutorials/3_building_noise_models.html\n",
    "import qiskit\n",
    "qiskit.__version__"
   ]
  },
  {
   "cell_type": "code",
   "execution_count": 1,
   "id": "cda05be6-b680-48ec-8abc-560ebc948d2f",
   "metadata": {},
   "outputs": [],
   "source": [
    "import numpy as np\n",
    "\n",
    "# Importing standard Qiskit libralies\n",
    "from qiskit import QuantumCircuit, transpile\n",
    "from qiskit.quantum_info import SparsePauliOp\n",
    "from qiskit.transpiler.preset_passmanagers import generate_preset_pass_manager\n",
    "from qiskit_ibm_runtime import EstimatorV2 as Estimator\n",
    "from qiskit_ibm_runtime import SamplerV2\n",
    "#from qiskit_ibm_provider import IBMProvider\n",
    "from qiskit.visualization import plot_histogram, plot_distribution\n",
    "from qiskit.providers.fake_provider import GenericBackendV2, FakeQasmBackend\n",
    "from qiskit_aer import StatevectorSimulator, AerSimulator\n",
    "from qiskit import ClassicalRegister, QuantumRegister\n",
    "# Import from Qiskit Aer noise module\n",
    "from qiskit_aer.noise import (NoiseModel, QuantumError, ReadoutError, pauli_error, depolarizing_error, thermal_relaxation_error)"
   ]
  },
  {
   "cell_type": "code",
   "execution_count": 2,
   "id": "e34a8d38-b2ee-4c5b-92fe-0967e21600a1",
   "metadata": {},
   "outputs": [
    {
     "name": "stdout",
     "output_type": "stream",
     "text": [
      "NoiseModel:\n",
      "  Basis gates: ['cx', 'id', 'rz', 'sx']\n",
      "  Instructions with noise: ['id']\n",
      "  All-qubits errors: ['id']\n"
     ]
    }
   ],
   "source": [
    "# System Specification\n",
    "n_qubits = 1\n",
    "circ = QuantumCircuit(n_qubits)\n",
    "\n",
    "# Example error probabilities\n",
    "p_gate1 = 0.1\n",
    " \n",
    "# QuantumError objects\n",
    "error = pauli_error([('I', 1 - p_gate1),('X',p_gate1)])\n",
    " \n",
    "# Add errors to noise model\n",
    "noise_bit_flip = NoiseModel()\n",
    "noise_bit_flip.add_all_qubit_quantum_error(error,[\"id\"])\n",
    " \n",
    "print(noise_bit_flip)"
   ]
  },
  {
   "cell_type": "code",
   "execution_count": 4,
   "id": "fff8ed5e-058d-416c-95c1-884ff2fdb8b4",
   "metadata": {},
   "outputs": [],
   "source": [
    "# 量子回路の初期化\n",
    "circuit = QuantumCircuit(3,3)"
   ]
  },
  {
   "cell_type": "code",
   "execution_count": 6,
   "id": "80a4dc49-2e94-4b6d-ac68-f75a1d8591ee",
   "metadata": {},
   "outputs": [
    {
     "data": {
      "text/plain": [
       "CircuitInstruction(operation=Instruction(name='barrier', num_qubits=3, num_clbits=0, params=[]), qubits=(Qubit(QuantumRegister(3, 'q'), 0), Qubit(QuantumRegister(3, 'q'), 1), Qubit(QuantumRegister(3, 'q'), 2)), clbits=())"
      ]
     },
     "execution_count": 6,
     "metadata": {},
     "output_type": "execute_result"
    }
   ],
   "source": [
    "# 量子状態を反復\n",
    "circuit.cx(0,[1,2])\n",
    "circuit.barrier()"
   ]
  },
  {
   "cell_type": "code",
   "execution_count": 10,
   "id": "f169f857-bcb1-4ec4-a47a-05c3c476d730",
   "metadata": {},
   "outputs": [
    {
     "data": {
      "text/plain": [
       "<qiskit.circuit.instructionset.InstructionSet at 0x7fa7b5c8f490>"
      ]
     },
     "execution_count": 10,
     "metadata": {},
     "output_type": "execute_result"
    }
   ],
   "source": [
    "# エラー発生\n",
    "circuit.id([0,1,2])"
   ]
  },
  {
   "cell_type": "code",
   "execution_count": 11,
   "id": "5cf3106b-0b26-4eb2-8dc1-f10f37a876bf",
   "metadata": {},
   "outputs": [
    {
     "data": {
      "text/plain": [
       "<qiskit.circuit.instructionset.InstructionSet at 0x7fa7b5c8f3a0>"
      ]
     },
     "execution_count": 11,
     "metadata": {},
     "output_type": "execute_result"
    }
   ],
   "source": [
    "# 測定\n",
    "circuit.measure([0,1,2],[0,1,2])"
   ]
  },
  {
   "cell_type": "code",
   "execution_count": 12,
   "id": "24e034eb-a624-4c3a-a028-fb26e3d5342f",
   "metadata": {},
   "outputs": [
    {
     "name": "stdout",
     "output_type": "stream",
     "text": [
      "{'000': 1000}\n"
     ]
    },
    {
     "data": {
      "image/png": "[encoded data removed]",
      "text/plain": [
       "<Figure size 640x480 with 1 Axes>"
      ]
     },
     "execution_count": 12,
     "metadata": {},
     "output_type": "execute_result"
    }
   ],
   "source": [
    "# 実行と結果取得\n",
    "backend = AerSimulator(noise_model=noise_bit_flip)\n",
    "transpiled_circuit = transpile(circuit, backend)\n",
    "result = backend.run(transpiled_circuit, shots=1000, optimization_level = 0).result()\n",
    "print(result.get_counts(circuit))\n",
    "plot_histogram(result.get_counts(circuit))"
   ]
  }
 ],
 "metadata": {
  "kernelspec": {
   "display_name": "Python 3 (ipykernel)",
   "language": "python",
   "name": "python3"
  },
  "language_info": {
   "codemirror_mode": {
    "name": "ipython",
    "version": 3
   },
   "file_extension": ".py",
   "mimetype": "text/x-python",
   "name": "python",
   "nbconvert_exporter": "python",
   "pygments_lexer": "ipython3",
   "version": "3.10.12"
  }
 },
 "nbformat": 4,
 "nbformat_minor": 5
}
